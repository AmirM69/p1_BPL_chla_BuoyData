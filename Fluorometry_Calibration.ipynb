{
 "cells": [
  {
   "cell_type": "markdown",
   "metadata": {},
   "source": [
    "# Importing Libraries"
   ]
  },
  {
   "cell_type": "code",
   "execution_count": 4,
   "metadata": {
    "slideshow": {
     "slide_type": "skip"
    }
   },
   "outputs": [],
   "source": [
    "import numpy as np\n",
    "import pandas as pd\n",
    "import matplotlib.pyplot as plt\n",
    "import matplotlib.dates as mdates\n",
    "# import seaborn as sb"
   ]
  },
  {
   "cell_type": "markdown",
   "metadata": {},
   "source": [
    "# Settings"
   ]
  },
  {
   "cell_type": "code",
   "execution_count": 5,
   "metadata": {},
   "outputs": [],
   "source": [
    "data_dir = '../Data/'\n",
    "data_file = 'BPL_data.csv'\n",
    "\n",
    "selected_features = ['BGAPCShallowRFU'] #, 'ChlRFUShallow','TurbShallowField','PAR_normalized_day','CO2Shallow','Month']\n",
    "model_name = 'Chl_PC' # chl_chl, chl_ML, chl_FC "
   ]
  },
  {
   "cell_type": "markdown",
   "metadata": {},
   "source": [
    "# Reading external data"
   ]
  },
  {
   "cell_type": "code",
   "execution_count": 6,
   "metadata": {
    "slideshow": {
     "slide_type": "slide"
    },
    "tags": []
   },
   "outputs": [
    {
     "name": "stderr",
     "output_type": "stream",
     "text": [
      "C:\\Users\\amirc\\miniconda3\\envs\\p1\\lib\\site-packages\\IPython\\core\\interactiveshell.py:3444: DtypeWarning: Columns (21) have mixed types.Specify dtype option on import or set low_memory=False.\n",
      "  exec(code_obj, self.user_global_ns, self.user_ns)\n"
     ]
    }
   ],
   "source": [
    "## date should be parsed as datetime in order to automatically sort in dataframes, and this is important because of working with time-series\n",
    "df = pd.read_csv(data_dir + data_file, skiprows=[1], parse_dates=[['Date', 'Time']])"
   ]
  },
  {
   "cell_type": "markdown",
   "metadata": {},
   "source": [
    "# Creating buoy (in-vivo) dataframe"
   ]
  },
  {
   "cell_type": "code",
   "execution_count": 7,
   "metadata": {
    "scrolled": true,
    "slideshow": {
     "slide_type": "slide"
    }
   },
   "outputs": [],
   "source": [
    "## drop the measurements not coming with buoy data as well as rows from other datasets\n",
    "df_buoy = df[df['Dataset'] == 'Buoy'].drop(['SampleID','Dataset','SiteNumber','latitude','Longitude','BottomDepth','sampledepth','SecchiDiskDepth','SamplingInScum','Lab_Chla','TSS','PARExtinction','TurbidityLab','DOC','Lab_chlaOutlier','biomassCyanobacteria','biomassChlorophyte','biomassEuglenophyte','biomassChrysophyte','biomassDiatom','biomassCryptophyte','biomassDinoflagellate','biomassTotal','Cyanobacteria','Chlorophyte','Euglenophyte','Chrysophyte','Diatom','Cryptophyte','Dinoflagellate','cellcountTotal','Bluegreen_Anabaena','Bluegreen_AgmenellumMerismopedia','Bluegreen_Anacystis','Bluegreen_Gomphosphaeria','Bluegreen_Oscillatoria','Bluegreen_Aphanizomenon','Green_Chlorella','Green_Clostrium','Green_Scenedesmus','Green_Ankistrodesmus','Green_Oocystis','Green_Chodetella','Green_Botryococcus','Green_Mougeotia','Green_Phytoconis','Green_Sphaerocystis','Green_Spirogyra','Green_Tetraedron','Green_Polyedriopsis','Green_Ulothrix','Green_Pediastrum','Green_Schroderia','Diatom_Cyclotella','Diatom_Synedra','Diatom_Cocconeis','Diatom_Nitzchia','Diatom_Navicula','Diatom_Fragillaria','Diatom_Tabellaria','Diatom_Gomphenema','Diatom_Astrionella','Flagellates','Other'], axis=1)"
   ]
  },
  {
   "cell_type": "markdown",
   "metadata": {},
   "source": [
    "# Creating lab (in-vitro) dataframe"
   ]
  },
  {
   "cell_type": "code",
   "execution_count": 8,
   "metadata": {
    "slideshow": {
     "slide_type": "slide"
    }
   },
   "outputs": [],
   "source": [
    "df_lab = df[df['Dataset'] != 'Buoy'][['Date_Time','Dataset','SiteNumber','Lab_Chla','sampledepth','Lab_chlaOutlier','latitude','Longitude']]"
   ]
  },
  {
   "cell_type": "markdown",
   "metadata": {},
   "source": [
    "# taxonomy analysis and graph production"
   ]
  },
  {
   "cell_type": "code",
   "execution_count": 9,
   "metadata": {},
   "outputs": [],
   "source": [
    "# filt_dataset = (df['Dataset'] != 'Buoy')\n",
    "# df_lab_test = df[filt_dataset] \n",
    "# df_lab_test_ave = df_lab_test.groupby(df_lab_test.Date_Time.dt.date).agg('mean')\n",
    "# df_lab_test_ave.dropna(subset = [\"biomassCyanobacteria\"], inplace=True) \n",
    "\n",
    "# df_lab_test.dropna(subset = [\"biomassCyanobacteria\"], inplace=True) \n",
    "\n",
    "# df_lab_test_ave = df_lab_test_ave.reset_index()\n",
    "# df_lab_test_ave.Date_Time = pd.to_datetime(df_lab_test_ave.Date_Time)\n",
    "\n",
    "\n",
    "# for year in range (2015,2019):   \n",
    "#     cyano = df_lab_test_ave[df_lab_test_ave.Date_Time.dt.year==year]['biomassCyanobacteria']\n",
    "#     total = df_lab_test_ave[df_lab_test_ave.Date_Time.dt.year==year]['biomassTotal']\n",
    "#     plt.plot(df_lab_test_ave.Date_Time[df_lab_test_ave.Date_Time.dt.year==year].dt.dayofyear, cyano/total,  label=year)\n",
    "# #     plt.xticks(df_lab_test.Date_Time[df_lab_test.Date_Time.dt.year==year])\n",
    "#     plt.xlim(100,350)\n",
    "\n",
    "    \n",
    "# plt.hlines(y=.5, xmin=100, xmax=350, colors='grey', linestyles='--', lw=2, label='y = 0.5')\n",
    "# plt.legend(loc=\"upper right\")\n",
    "# plt.xlabel('Day of year')\n",
    "# plt.ylabel('cyanobacteria / phytoplankton')\n",
    "# plt.savefig('fig_taxanomy.png', dpi=500, bbox_inches = 'tight')"
   ]
  },
  {
   "cell_type": "markdown",
   "metadata": {},
   "source": [
    "# Preparing lab dataset"
   ]
  },
  {
   "cell_type": "markdown",
   "metadata": {},
   "source": [
    "some outliers in lab chla data can be detected in time-series along with other chla observations. we did that manually and list outliers as a column in dataset."
   ]
  },
  {
   "cell_type": "code",
   "execution_count": 10,
   "metadata": {},
   "outputs": [],
   "source": [
    "# drop the lab observations detected as outliers \n",
    "df_lab.drop(df_lab[df_lab['Lab_chlaOutlier'] == 1].index, axis=0, inplace=True)\n",
    "# drop the associated column \n",
    "df_lab.drop('Lab_chlaOutlier', axis=1, inplace=True)"
   ]
  },
  {
   "cell_type": "code",
   "execution_count": 11,
   "metadata": {
    "scrolled": true,
    "slideshow": {
     "slide_type": "subslide"
    }
   },
   "outputs": [],
   "source": [
    "# drop observations with nan values as chla_lab \n",
    "df_lab.dropna(subset= ['Lab_Chla'], axis=0, inplace=True)"
   ]
  },
  {
   "cell_type": "code",
   "execution_count": 12,
   "metadata": {},
   "outputs": [],
   "source": [
    "#exclude lab data from stations 5-16\n",
    "df_lab = df_lab[df_lab['SiteNumber'] < 5]"
   ]
  },
  {
   "cell_type": "code",
   "execution_count": 13,
   "metadata": {},
   "outputs": [
    {
     "data": {
      "text/plain": [
       "<AxesSubplot:>"
      ]
     },
     "execution_count": 13,
     "metadata": {},
     "output_type": "execute_result"
    },
    {
     "data": {
      "image/png": "[encoded data removed]",
      "text/plain": [
       "<Figure size 432x288 with 1 Axes>"
      ]
     },
     "metadata": {
      "needs_background": "light"
     },
     "output_type": "display_data"
    }
   ],
   "source": [
    "df_lab.Lab_Chla.hist()"
   ]
  },
  {
   "cell_type": "markdown",
   "metadata": {},
   "source": [
    "Although we see some outliers maybe due to dense scum, there is nothing to worry about because these values will not affect average of daily lab measurements because of using median instead of mean. in almost all cases we have same day measurents in deep water when we have surface measurements."
   ]
  },
  {
   "cell_type": "code",
   "execution_count": 14,
   "metadata": {
    "scrolled": true,
    "slideshow": {
     "slide_type": "slide"
    }
   },
   "outputs": [],
   "source": [
    "# Averaging lab_chla over whole day\n",
    "df_lab_ave = df_lab.groupby(df_lab.Date_Time.dt.date).agg({'Lab_Chla': 'median'})  # , 'Dataset': 'sum'"
   ]
  },
  {
   "cell_type": "code",
   "execution_count": 15,
   "metadata": {},
   "outputs": [
    {
     "data": {
      "text/plain": [
       "array([[<AxesSubplot:title={'center':'Lab_Chla'}>]], dtype=object)"
      ]
     },
     "execution_count": 15,
     "metadata": {},
     "output_type": "execute_result"
    },
    {
     "data": {
      "image/png": "[encoded data removed]",
      "text/plain": [
       "<Figure size 432x288 with 1 Axes>"
      ]
     },
     "metadata": {
      "needs_background": "light"
     },
     "output_type": "display_data"
    }
   ],
   "source": [
    "df_lab_ave.hist()"
   ]
  },
  {
   "cell_type": "markdown",
   "metadata": {},
   "source": [
    "we log-transform our target values to have normal distribution"
   ]
  },
  {
   "cell_type": "code",
   "execution_count": 16,
   "metadata": {},
   "outputs": [],
   "source": [
    "# log-transformation of chla lab\n",
    "df_lab_ave_logTrans = np.log10(df_lab_ave)"
   ]
  },
  {
   "cell_type": "code",
   "execution_count": 17,
   "metadata": {},
   "outputs": [
    {
     "data": {
      "text/plain": [
       "(309, 1)"
      ]
     },
     "execution_count": 17,
     "metadata": {},
     "output_type": "execute_result"
    }
   ],
   "source": [
    "# removing outliers lie in >3*sigma\n",
    "Lab_chla_outlier = abs(df_lab_ave_logTrans.Lab_Chla - df_lab_ave_logTrans.Lab_Chla.mean()) > 3 * df_lab_ave_logTrans.Lab_Chla.std()\n",
    "df_lab_ave_logTrans.drop(df_lab_ave_logTrans[Lab_chla_outlier]. index, axis=0, inplace=True)\n",
    "df_lab_ave_logTrans.shape"
   ]
  },
  {
   "cell_type": "markdown",
   "metadata": {},
   "source": [
    "# Preparing Buoy dataset"
   ]
  },
  {
   "cell_type": "code",
   "execution_count": 18,
   "metadata": {
    "slideshow": {
     "slide_type": "subslide"
    }
   },
   "outputs": [],
   "source": [
    "# drop the buoy observations associated with biofouling error\n",
    "df_buoy.drop(df_buoy[df_buoy['shallow_sonde_biofouling_outlier'] == 1].index, axis=0, inplace=True)\n",
    "# drop the associated column \n",
    "df_buoy.drop('shallow_sonde_biofouling_outlier', axis=1, inplace=True)\n",
    "df_buoy.reset_index(drop=True, inplace=True)"
   ]
  },
  {
   "cell_type": "code",
   "execution_count": 19,
   "metadata": {},
   "outputs": [],
   "source": [
    "##Adding 'isDaylight' variable to determine whether each observation was made in day or night \n",
    "import astral\n",
    "from astral import LocationInfo\n",
    "from astral.sun import sun\n",
    "import pytz\n",
    "from datetime import datetime\n",
    "\n",
    "# function for calculating sunset and sunrise\n",
    "utc = pytz.UTC\n",
    "def suntimes(date):\n",
    "    loc = LocationInfo('BPL', 'Canada', 'america/regina', 50.586139, -105.384833)\n",
    "    sun_times = sun(loc.observer, date, tzinfo=loc.timezone)\n",
    "    return sun_times\n",
    "\n",
    "sun_times = df_buoy.Date_Time.dt.date.apply(suntimes)\n",
    "df_sun_times= pd.DataFrame(sun_times.tolist())\n",
    "df_buoy['isDaylight'] = (df_buoy['Date_Time'] > df_sun_times['sunrise'].dt.tz_localize(None)) & (df_buoy['Date_Time'] < df_sun_times['sunset'].dt.tz_localize(None))"
   ]
  },
  {
   "cell_type": "markdown",
   "metadata": {
    "slideshow": {
     "slide_type": "skip"
    }
   },
   "source": [
    "Check the type of features to see if all are numerical"
   ]
  },
  {
   "cell_type": "code",
   "execution_count": 20,
   "metadata": {
    "scrolled": true,
    "slideshow": {
     "slide_type": "skip"
    }
   },
   "outputs": [
    {
     "data": {
      "text/plain": [
       "Date_Time             datetime64[ns]\n",
       "Bat                          float64\n",
       "WindDir                      float64\n",
       "WindSp                       float64\n",
       "AirTemp                      float64\n",
       "RelativeHum                  float64\n",
       "BarometricPress               object\n",
       "DailyRain                    float64\n",
       "PARAirFlags                  float64\n",
       "PARW1                        float64\n",
       "PARW2                        float64\n",
       "CDOM                         float64\n",
       "CDOMmV                       float64\n",
       "CO2Shallow                   float64\n",
       "CO2Deep                      float64\n",
       "TempShallow                  float64\n",
       "SpCondShallow                float64\n",
       "pHShallow                    float64\n",
       "pHmVShallow                  float64\n",
       "TurbShallowField             float64\n",
       "ChlorophyllShallow           float64\n",
       "ChlRFUShallow                float64\n",
       "BGAPCShallow                 float64\n",
       "BGAPCShallowRFU              float64\n",
       "ODOSatShallow                float64\n",
       "ODOShallow                   float64\n",
       "TempDeep                     float64\n",
       "SpCondDeep                   float64\n",
       "TDSDeep                      float64\n",
       "pHDeep                       float64\n",
       "pHmVDeep                     float64\n",
       "BGAPCDeep                    float64\n",
       "BGAPCDeepRFU                 float64\n",
       "TAL PC RFU                   float64\n",
       "ODOSatDeep                   float64\n",
       "ODODeep                      float64\n",
       "Temp00                       float64\n",
       "Temp01                       float64\n",
       "Temp02                       float64\n",
       "Temp03                       float64\n",
       "Temp04                       float64\n",
       "isDaylight                      bool\n",
       "dtype: object"
      ]
     },
     "execution_count": 20,
     "metadata": {},
     "output_type": "execute_result"
    }
   ],
   "source": [
    "# exploring data types in df_buoy\n",
    "df_buoy.dtypes"
   ]
  },
  {
   "cell_type": "code",
   "execution_count": 21,
   "metadata": {
    "scrolled": true,
    "slideshow": {
     "slide_type": "skip"
    }
   },
   "outputs": [],
   "source": [
    "# Extract date elements as seperate features\n",
    "df_buoy['Year'] = df_buoy.Date_Time.dt.year\n",
    "df_buoy['Month'] = df_buoy.Date_Time.dt.month\n",
    "df_buoy['Day'] = df_buoy.Date_Time.dt.day\n",
    "df_buoy['doy'] = df_buoy.Date_Time.dt.dayofyear\n",
    "# put 'Date_Time' as the index of dataframe\n",
    "df_buoy.index = df_buoy[\"Date_Time\"]\n",
    "# drop 'Date_Time column from the dataframe'\n",
    "df_buoy.drop('Date_Time', axis=1, inplace=True)"
   ]
  },
  {
   "cell_type": "code",
   "execution_count": 22,
   "metadata": {
    "slideshow": {
     "slide_type": "slide"
    }
   },
   "outputs": [],
   "source": [
    "## first, creating a heat map to see the relation between parameters\n",
    "# correlation_matrix = df_buoy.corr().round(2)  # it seems that this function is working even with nan values in data\n",
    "# plt.figure(figsize=(18,18))\n",
    "# sb.heatmap(data=correlation_matrix, annot=True, center=0.0, cmap='coolwarm')"
   ]
  },
  {
   "cell_type": "markdown",
   "metadata": {
    "slideshow": {
     "slide_type": "subslide"
    }
   },
   "source": [
    "from the above heat map we can see that some adjacent parameters have very high correlation, and based on our knowledge we know that these are not a seperate observation, but just a calculated parameters based on calibration factors. the reason that their correaltion with the original parameter (e.g. 'BGAPCShallow' and 'BGAPCShallowRFU' is not 1 is because the calibration factors are computed for each year (different year by year) and above correlation is four all years). So for feature reduction I decided to eliminate these calculated features in further analyses. "
   ]
  },
  {
   "cell_type": "code",
   "execution_count": 23,
   "metadata": {
    "slideshow": {
     "slide_type": "subslide"
    }
   },
   "outputs": [],
   "source": [
    "# drop the features which are not independent measurements (except ChlorophyllShallow which I need for further analysis)\n",
    "df_buoy.drop(['BGAPCDeep', 'BGAPCShallow', 'pHDeep', 'pHShallow', 'ODOSatDeep'], axis = 1, inplace=True)"
   ]
  },
  {
   "cell_type": "markdown",
   "metadata": {
    "slideshow": {
     "slide_type": "slide"
    }
   },
   "source": [
    "# Imputing missing buoy data"
   ]
  },
  {
   "cell_type": "code",
   "execution_count": 24,
   "metadata": {
    "slideshow": {
     "slide_type": "slide"
    }
   },
   "outputs": [
    {
     "data": {
      "text/plain": [
       "Bat                   0.030557\n",
       "WindDir               0.102965\n",
       "WindSp                0.102979\n",
       "AirTemp               0.074043\n",
       "RelativeHum           0.070205\n",
       "BarometricPress       0.069104\n",
       "DailyRain             0.069104\n",
       "PARAirFlags           0.038449\n",
       "PARW1                 0.238634\n",
       "PARW2                 0.125574\n",
       "CDOM                  0.444101\n",
       "CDOMmV                0.444031\n",
       "CO2Shallow            0.379269\n",
       "CO2Deep               0.980253\n",
       "TempShallow           0.050024\n",
       "SpCondShallow         0.050711\n",
       "pHmVShallow           0.049960\n",
       "TurbShallowField      0.066060\n",
       "ChlorophyllShallow    0.052268\n",
       "ChlRFUShallow         0.051763\n",
       "BGAPCShallowRFU       0.053005\n",
       "ODOSatShallow         0.634522\n",
       "ODOShallow            0.119906\n",
       "TempDeep              0.152378\n",
       "SpCondDeep            0.155486\n",
       "TDSDeep               0.962709\n",
       "pHmVDeep              0.220444\n",
       "BGAPCDeepRFU          0.305353\n",
       "TAL PC RFU            0.876916\n",
       "ODODeep               0.303740\n",
       "Temp00                0.234201\n",
       "Temp01                0.177492\n",
       "Temp02                0.177324\n",
       "Temp03                0.177183\n",
       "Temp04                0.234678\n",
       "isDaylight            0.000000\n",
       "Year                  0.000000\n",
       "Month                 0.000000\n",
       "Day                   0.000000\n",
       "doy                   0.000000\n",
       "dtype: float64"
      ]
     },
     "execution_count": 24,
     "metadata": {},
     "output_type": "execute_result"
    }
   ],
   "source": [
    "# what percentage of each parameter is recorded as missing values\n",
    "df_buoy.isnull().sum() / len(df_buoy)"
   ]
  },
  {
   "cell_type": "code",
   "execution_count": 25,
   "metadata": {
    "scrolled": true,
    "slideshow": {
     "slide_type": "subslide"
    }
   },
   "outputs": [
    {
     "data": {
      "text/plain": [
       "WindDir                14678\n",
       "WindSp                 14680\n",
       "AirTemp                10555\n",
       "RelativeHum            10008\n",
       "BarometricPress         9851\n",
       "DailyRain               9851\n",
       "PARAirFlags             5481\n",
       "PARW1                  34018\n",
       "PARW2                  17901\n",
       "CO2Shallow             54066\n",
       "TempShallow             7131\n",
       "SpCondShallow           7229\n",
       "pHmVShallow             7122\n",
       "TurbShallowField        9417\n",
       "ChlorophyllShallow      7451\n",
       "ChlRFUShallow           7379\n",
       "BGAPCShallowRFU         7556\n",
       "ODOShallow             17093\n",
       "TempDeep               21722\n",
       "SpCondDeep             22165\n",
       "TDSDeep               137237\n",
       "pHmVDeep               31425\n",
       "BGAPCDeepRFU           43529\n",
       "TAL PC RFU            125007\n",
       "ODODeep                43299\n",
       "Temp00                 33386\n",
       "Temp01                 25302\n",
       "Temp02                 25278\n",
       "Temp03                 25258\n",
       "Temp04                 33454\n",
       "isDaylight                 0\n",
       "Year                       0\n",
       "Month                      0\n",
       "Day                        0\n",
       "doy                        0\n",
       "dtype: int64"
      ]
     },
     "execution_count": 25,
     "metadata": {},
     "output_type": "execute_result"
    }
   ],
   "source": [
    "# drop the unrelated parameters to chla (based on my judgement) and features with more than %50 of data stored as nan\n",
    "df_buoy = df_buoy.drop(['Bat', 'CO2Deep', 'ODOSatShallow', 'CDOM', 'CDOMmV'], axis=1).copy()\n",
    "df_buoy.isnull().sum()"
   ]
  },
  {
   "cell_type": "code",
   "execution_count": 26,
   "metadata": {
    "slideshow": {
     "slide_type": "slide"
    }
   },
   "outputs": [],
   "source": [
    "## plot all features to see the time distribution of missing values to select the best approach to impute missing values\n",
    "# plt.figure(figsize = [18 , 56])\n",
    "# myFmt = mdates.DateFormatter('%m')\n",
    "# years = df_buoy['Year'].unique()\n",
    "# features = df_buoy.columns\n",
    "# i = 0\n",
    "# for feature in features[:-3]:  # to not include day, month and year features\n",
    "#     for year in years:\n",
    "#         i += 1\n",
    "#         ax = plt.subplot(len(features), len(years), i)\n",
    "#         filt_year = df_buoy['Year'] == year\n",
    "#         ax.plot(df_buoy[filt_year][feature]) # the x-axis is the index\n",
    "#         ax.xaxis.set_major_formatter(myFmt)\n",
    "#         ax.text(.2, .8, str(df_buoy[filt_year][feature].isnull().sum()), horizontalalignment='center', verticalalignment='center', transform = ax.transAxes)\n",
    "#         if year == 2014:\n",
    "#             plt.ylabel(feature)"
   ]
  },
  {
   "cell_type": "code",
   "execution_count": 27,
   "metadata": {},
   "outputs": [],
   "source": [
    "# # plot again the heatmap\n",
    "# correlation_matrix = df_buoy.corr().round(2)  # it seems that this function is working even with nan values in data\n",
    "# plt.figure(figsize=(18,18))\n",
    "# sb.heatmap(data=correlation_matrix, annot=True, center=0.0, cmap='coolwarm')"
   ]
  },
  {
   "cell_type": "code",
   "execution_count": 28,
   "metadata": {
    "slideshow": {
     "slide_type": "subslide"
    }
   },
   "outputs": [],
   "source": [
    "# create a new dataframe for imputed data\n",
    "imputed_df_buoy = df_buoy.copy()"
   ]
  },
  {
   "cell_type": "markdown",
   "metadata": {},
   "source": [
    "the reason to connect each year to the next one in some cases is that , the two points in two successive years are connected to each other before imputing if both exist (non-missing). if one of them are missing (e.g. the lst measuremt in the previous year or the first measuremtn in the later year are missing) the line is not connected in it will be connected after impution of the missing value in impution algorithm."
   ]
  },
  {
   "cell_type": "markdown",
   "metadata": {
    "slideshow": {
     "slide_type": "subslide"
    }
   },
   "source": [
    "for wind direction I think a median or mean method over month makes more sense than interpolation because the missing values are suucessive in most cases which make interpolation hard. Also it seems there is a relation between these two parameters and month in plot a couple of lines above. I chose median over mean because I think median makes more sense for direction. form a wind_rose for BPL I saw the wind direction is more in a same direction. "
   ]
  },
  {
   "cell_type": "code",
   "execution_count": 29,
   "metadata": {
    "slideshow": {
     "slide_type": "subslide"
    }
   },
   "outputs": [
    {
     "data": {
      "text/plain": [
       "<matplotlib.legend.Legend at 0x269b54460a0>"
      ]
     },
     "execution_count": 29,
     "metadata": {},
     "output_type": "execute_result"
    },
    {
     "data": {
      "image/png": "[encoded data removed]",
      "text/plain": [
       "<Figure size 1296x432 with 1 Axes>"
      ]
     },
     "metadata": {
      "needs_background": "light"
     },
     "output_type": "display_data"
    },
    {
     "data": {
      "image/png": "[encoded data removed]",
      "text/plain": [
       "<Figure size 1296x432 with 1 Axes>"
      ]
     },
     "metadata": {
      "needs_background": "light"
     },
     "output_type": "display_data"
    }
   ],
   "source": [
    "# impute winddir and windspeed based on median over month\n",
    "imputed_df_buoy.WindDir = df_buoy.WindDir.groupby(df_buoy.Month).transform(lambda x: x.fillna(x.median()))\n",
    "imputed_df_buoy.WindSp = df_buoy.WindSp.groupby(df_buoy.Month).transform(lambda x: x.fillna(x.median()))\n",
    "\n",
    "plt.figure(figsize = [18 , 6])\n",
    "plt.plot(imputed_df_buoy.WindDir)\n",
    "plt.plot(df_buoy.WindDir)\n",
    "plt.legend(['imputed_WindDir' , 'WindDir'])\n",
    "\n",
    "plt.figure(figsize = [18 , 6])\n",
    "plt.plot(imputed_df_buoy.WindSp)\n",
    "plt.plot(df_buoy.WindSp)\n",
    "plt.legend(['imputed_WindSp' , 'WindSp'])"
   ]
  },
  {
   "cell_type": "markdown",
   "metadata": {
    "slideshow": {
     "slide_type": "subslide"
    }
   },
   "source": [
    "for these parameters below, it seems a monthly mean or median would be enough, based on their pattern, number and succesive of mising values, their nature, and the correlation with other parameters."
   ]
  },
  {
   "cell_type": "code",
   "execution_count": 30,
   "metadata": {
    "slideshow": {
     "slide_type": "subslide"
    }
   },
   "outputs": [],
   "source": [
    "# impute some parameters based on mean or median over month\n",
    "imputed_df_buoy.AirTemp = df_buoy.AirTemp.groupby(df_buoy.Month).transform(lambda x: x.fillna(x.mean()))\n",
    "imputed_df_buoy.RelativeHum = df_buoy.RelativeHum.groupby(df_buoy.Month).transform(lambda x: x.fillna(x.mean()))\n",
    "# imputed_df_buoy.BarometricPress = df_buoy.BarometricPress.groupby(df_buoy.Month).transform(lambda x: x.fillna(x.mean()))\n",
    "imputed_df_buoy.DailyRain = df_buoy.DailyRain.groupby(df_buoy.Month).transform(lambda x: x.fillna(x.median()))\n",
    "imputed_df_buoy.PARAirFlags = df_buoy.PARAirFlags.groupby(df_buoy.Month).transform(lambda x: x.fillna(x.median()))"
   ]
  },
  {
   "cell_type": "markdown",
   "metadata": {
    "slideshow": {
     "slide_type": "subslide"
    }
   },
   "source": [
    "I dont know yet how to deal with CO2shallow, so keep it simple for now"
   ]
  },
  {
   "cell_type": "code",
   "execution_count": 31,
   "metadata": {
    "slideshow": {
     "slide_type": "subslide"
    }
   },
   "outputs": [],
   "source": [
    "imputed_df_buoy.CO2Shallow = df_buoy.CO2Shallow.groupby(df_buoy.Month).transform(lambda x: x.fillna(x.mean()))"
   ]
  },
  {
   "cell_type": "markdown",
   "metadata": {
    "slideshow": {
     "slide_type": "subslide"
    }
   },
   "source": [
    "Tempshallow can be estimated from Airtemp, but the number of missing values are few, so keep it simple"
   ]
  },
  {
   "cell_type": "code",
   "execution_count": 32,
   "metadata": {
    "slideshow": {
     "slide_type": "subslide"
    }
   },
   "outputs": [],
   "source": [
    "imputed_df_buoy.TempShallow = df_buoy.TempShallow.groupby(df_buoy.Month).transform(lambda x: x.fillna(x.mean()))"
   ]
  },
  {
   "cell_type": "markdown",
   "metadata": {
    "slideshow": {
     "slide_type": "subslide"
    }
   },
   "source": [
    "maybe the best option?"
   ]
  },
  {
   "cell_type": "code",
   "execution_count": 33,
   "metadata": {
    "slideshow": {
     "slide_type": "subslide"
    }
   },
   "outputs": [],
   "source": [
    "# impute with interpolation with 'time' method\n",
    "imputed_df_buoy.SpCondShallow = df_buoy.SpCondShallow.interpolate(method='time')\n",
    "imputed_df_buoy.pHmVShallow = df_buoy.pHmVShallow.interpolate(method='time')\n",
    "imputed_df_buoy.ChlRFUShallow = df_buoy.ChlRFUShallow.interpolate(method='time')\n",
    "imputed_df_buoy.BGAPCShallowRFU = df_buoy.BGAPCShallowRFU.interpolate(method='time')\n",
    "imputed_df_buoy.ChlorophyllShallow = df_buoy.ChlorophyllShallow.interpolate(method='time')"
   ]
  },
  {
   "cell_type": "markdown",
   "metadata": {
    "slideshow": {
     "slide_type": "subslide"
    }
   },
   "source": [
    "I dont know yet how to deal with ODOShallow, so keep it simple for now"
   ]
  },
  {
   "cell_type": "code",
   "execution_count": 34,
   "metadata": {
    "slideshow": {
     "slide_type": "subslide"
    }
   },
   "outputs": [],
   "source": [
    "imputed_df_buoy.ODOShallow = df_buoy.ODOShallow.groupby(df_buoy.Month).transform(lambda x: x.fillna(x.mean()))"
   ]
  },
  {
   "cell_type": "markdown",
   "metadata": {
    "slideshow": {
     "slide_type": "subslide"
    }
   },
   "source": [
    "I know that interpolation is not good for features below because there is suucessive misssig data. and maybe the best method is to corrolate with shallow sensor for each parameter but method below is just for simplicity. "
   ]
  },
  {
   "cell_type": "code",
   "execution_count": 35,
   "metadata": {},
   "outputs": [
    {
     "data": {
      "text/plain": [
       "<AxesSubplot:>"
      ]
     },
     "execution_count": 35,
     "metadata": {},
     "output_type": "execute_result"
    },
    {
     "data": {
      "image/png": "[encoded data removed]",
      "text/plain": [
       "<Figure size 432x288 with 1 Axes>"
      ]
     },
     "metadata": {
      "needs_background": "light"
     },
     "output_type": "display_data"
    }
   ],
   "source": [
    "#Create a Linear Regression model to estimate the missing data\n",
    "from sklearn.experimental import enable_iterative_imputer\n",
    "from sklearn.impute import IterativeImputer\n",
    "imp = IterativeImputer(max_iter=10, random_state=0)\n",
    "imp.fit(df_buoy[['BGAPCDeepRFU', 'BGAPCShallowRFU']])\n",
    "imputed_df_buoy['BGAPCDeepRFU'] = imp.transform(df_buoy[['BGAPCDeepRFU', 'BGAPCShallowRFU']])\n",
    "imputed_df_buoy['BGAPCDeepRFU'].hist()"
   ]
  },
  {
   "cell_type": "code",
   "execution_count": 36,
   "metadata": {
    "scrolled": true
   },
   "outputs": [
    {
     "data": {
      "text/plain": [
       "count    142553.000000\n",
       "mean          9.867369\n",
       "std          15.482931\n",
       "min          -0.200000\n",
       "25%           4.300000\n",
       "50%           7.200000\n",
       "75%          11.700000\n",
       "max         981.400000\n",
       "Name: TurbShallowField, dtype: float64"
      ]
     },
     "execution_count": 36,
     "metadata": {},
     "output_type": "execute_result"
    }
   ],
   "source": [
    "#Create a Linear Regression model to estimate the missing data\n",
    "imp = IterativeImputer(max_iter=10, random_state=0)\n",
    "imputed_df_buoy['TurbShallowField'] = imp.fit_transform(df_buoy[['TurbShallowField', 'BGAPCShallowRFU']])\n",
    "imputed_df_buoy['TurbShallowField'].describe()"
   ]
  },
  {
   "cell_type": "code",
   "execution_count": 37,
   "metadata": {},
   "outputs": [
    {
     "name": "stderr",
     "output_type": "stream",
     "text": [
      "C:\\Users\\amirc\\miniconda3\\envs\\p1\\lib\\site-packages\\sklearn\\impute\\_iterative.py:699: ConvergenceWarning: [IterativeImputer] Early stopping criterion not reached.\n",
      "  warnings.warn(\n"
     ]
    }
   ],
   "source": [
    "#Create a Linear Regression model to estimate the missing data\n",
    "imp = IterativeImputer(max_iter=10, random_state=0)\n",
    "imputed_df_buoy['TempDeep'] = imp.fit_transform(df_buoy[['TempDeep', 'TempShallow', 'AirTemp']])"
   ]
  },
  {
   "cell_type": "code",
   "execution_count": 38,
   "metadata": {},
   "outputs": [
    {
     "name": "stderr",
     "output_type": "stream",
     "text": [
      "C:\\Users\\amirc\\miniconda3\\envs\\p1\\lib\\site-packages\\sklearn\\impute\\_iterative.py:699: ConvergenceWarning: [IterativeImputer] Early stopping criterion not reached.\n",
      "  warnings.warn(\n"
     ]
    }
   ],
   "source": [
    "#Create a Linear Regression model to estimate the missing data\n",
    "imp = IterativeImputer(max_iter=10, random_state=0)\n",
    "imputed_df_buoy['Temp00'] = imp.fit_transform(df_buoy[['Temp00', 'TempDeep', 'TempShallow', 'AirTemp']])"
   ]
  },
  {
   "cell_type": "code",
   "execution_count": 39,
   "metadata": {},
   "outputs": [
    {
     "name": "stderr",
     "output_type": "stream",
     "text": [
      "C:\\Users\\amirc\\miniconda3\\envs\\p1\\lib\\site-packages\\sklearn\\impute\\_iterative.py:699: ConvergenceWarning: [IterativeImputer] Early stopping criterion not reached.\n",
      "  warnings.warn(\n"
     ]
    }
   ],
   "source": [
    "#Create a Linear Regression model to estimate the missing data\n",
    "imp = IterativeImputer(max_iter=10, random_state=0)\n",
    "imputed_df_buoy['Temp01'] = imp.fit_transform(df_buoy[['Temp01', 'Temp00', 'TempDeep', 'TempShallow', 'AirTemp']])"
   ]
  },
  {
   "cell_type": "code",
   "execution_count": 40,
   "metadata": {},
   "outputs": [
    {
     "name": "stderr",
     "output_type": "stream",
     "text": [
      "C:\\Users\\amirc\\miniconda3\\envs\\p1\\lib\\site-packages\\sklearn\\impute\\_iterative.py:699: ConvergenceWarning: [IterativeImputer] Early stopping criterion not reached.\n",
      "  warnings.warn(\n"
     ]
    }
   ],
   "source": [
    "#Create a Linear Regression model to estimate the missing data\n",
    "imp = IterativeImputer(max_iter=10, random_state=0)\n",
    "imputed_df_buoy['Temp02'] = imp.fit_transform(df_buoy[['Temp02', 'Temp01', 'Temp00', 'TempDeep', 'TempShallow', 'AirTemp']])"
   ]
  },
  {
   "cell_type": "code",
   "execution_count": 41,
   "metadata": {},
   "outputs": [
    {
     "name": "stderr",
     "output_type": "stream",
     "text": [
      "C:\\Users\\amirc\\miniconda3\\envs\\p1\\lib\\site-packages\\sklearn\\impute\\_iterative.py:699: ConvergenceWarning: [IterativeImputer] Early stopping criterion not reached.\n",
      "  warnings.warn(\n"
     ]
    }
   ],
   "source": [
    "#Create a Linear Regression model to estimate the missing data\n",
    "imp = IterativeImputer(max_iter=10, random_state=0)\n",
    "imputed_df_buoy['Temp03'] = imp.fit_transform(df_buoy[['Temp03', 'Temp02', 'Temp01', 'Temp00', 'TempDeep', 'TempShallow', 'AirTemp']])"
   ]
  },
  {
   "cell_type": "code",
   "execution_count": 42,
   "metadata": {},
   "outputs": [
    {
     "name": "stderr",
     "output_type": "stream",
     "text": [
      "C:\\Users\\amirc\\miniconda3\\envs\\p1\\lib\\site-packages\\sklearn\\impute\\_iterative.py:699: ConvergenceWarning: [IterativeImputer] Early stopping criterion not reached.\n",
      "  warnings.warn(\n"
     ]
    }
   ],
   "source": [
    "#Create a Linear Regression model to estimate the missing data\n",
    "imp = IterativeImputer(max_iter=10, random_state=0)\n",
    "imputed_df_buoy['Temp04'] = imp.fit_transform(df_buoy[['Temp04', 'Temp03', 'Temp02', 'Temp01', 'Temp00', 'TempDeep', 'TempShallow', 'AirTemp']])"
   ]
  },
  {
   "cell_type": "markdown",
   "metadata": {
    "slideshow": {
     "slide_type": "subslide"
    }
   },
   "source": [
    "for PARW1 & PARW2, it seems that an ML model to predict it based on PARAirFlags and some water parameters would be the best method because of its good corelation with other parameters, having missing values for whole a year. however, for now just keep it as simple as I can with a monthly average."
   ]
  },
  {
   "cell_type": "code",
   "execution_count": 43,
   "metadata": {},
   "outputs": [],
   "source": [
    "#Create a Linear Regression model to estimate the missing data\n",
    "imp = IterativeImputer(max_iter=10, random_state=0)\n",
    "imputed_df_buoy['PARW1'] = imp.fit_transform(df_buoy[['PARW1','PARAirFlags']])\n",
    "imputed_df_buoy['PARW2'] = imp.fit_transform(df_buoy[['PARW1','PARAirFlags']])"
   ]
  },
  {
   "cell_type": "code",
   "execution_count": 44,
   "metadata": {
    "slideshow": {
     "slide_type": "subslide"
    }
   },
   "outputs": [],
   "source": [
    "imputed_df_buoy.SpCondDeep = df_buoy.SpCondDeep.groupby(df_buoy.Month).transform(lambda x: x.fillna(x.mean()))\n",
    "imputed_df_buoy.pHmVDeep = df_buoy.pHmVDeep.groupby(df_buoy.Month).transform(lambda x: x.fillna(x.mean()))\n",
    "imputed_df_buoy.ODODeep = df_buoy.ODODeep.groupby(df_buoy.Month).transform(lambda x: x.fillna(x.mean()))"
   ]
  },
  {
   "cell_type": "code",
   "execution_count": 45,
   "metadata": {
    "scrolled": true,
    "slideshow": {
     "slide_type": "slide"
    }
   },
   "outputs": [
    {
     "data": {
      "text/plain": [
       "WindDir                    0\n",
       "WindSp                     0\n",
       "AirTemp                    0\n",
       "RelativeHum                0\n",
       "BarometricPress         9851\n",
       "DailyRain                  0\n",
       "PARAirFlags                0\n",
       "PARW1                      0\n",
       "PARW2                      0\n",
       "CO2Shallow                 0\n",
       "TempShallow                0\n",
       "SpCondShallow              0\n",
       "pHmVShallow                0\n",
       "TurbShallowField           0\n",
       "ChlorophyllShallow         0\n",
       "ChlRFUShallow              0\n",
       "BGAPCShallowRFU            0\n",
       "ODOShallow                 0\n",
       "TempDeep                   0\n",
       "SpCondDeep                 0\n",
       "TDSDeep               137237\n",
       "pHmVDeep                   0\n",
       "BGAPCDeepRFU               0\n",
       "TAL PC RFU            125007\n",
       "ODODeep                    0\n",
       "Temp00                     0\n",
       "Temp01                     0\n",
       "Temp02                     0\n",
       "Temp03                     0\n",
       "Temp04                     0\n",
       "isDaylight                 0\n",
       "Year                       0\n",
       "Month                      0\n",
       "Day                        0\n",
       "doy                        0\n",
       "dtype: int64"
      ]
     },
     "execution_count": 45,
     "metadata": {},
     "output_type": "execute_result"
    }
   ],
   "source": [
    "imputed_df_buoy.isnull().sum()"
   ]
  },
  {
   "cell_type": "markdown",
   "metadata": {},
   "source": [
    "# averaging buoy data on a daily basis"
   ]
  },
  {
   "cell_type": "code",
   "execution_count": 46,
   "metadata": {
    "scrolled": true,
    "slideshow": {
     "slide_type": "slide"
    }
   },
   "outputs": [],
   "source": [
    "# Averaging buoy data over whole day\n",
    "df_buoy_ave = imputed_df_buoy.groupby(imputed_df_buoy.index.date).agg('median')"
   ]
  },
  {
   "cell_type": "markdown",
   "metadata": {},
   "source": [
    "# Feature Generation"
   ]
  },
  {
   "cell_type": "code",
   "execution_count": 47,
   "metadata": {},
   "outputs": [],
   "source": [
    "## Creating some daily parameters\n",
    "filt_day = imputed_df_buoy['isDaylight'] == True\n",
    "df_buoy_ave['PARW1_day'] = imputed_df_buoy[filt_day]['PARW1'].groupby(imputed_df_buoy[filt_day].index.date).agg('mean')\n",
    "df_buoy_ave['PARAirFlags_day'] = imputed_df_buoy[filt_day]['PARAirFlags'].groupby(imputed_df_buoy[filt_day].index.date).agg('mean')\n",
    "df_buoy_ave['PAR_normalized_day'] = df_buoy_ave['PARW1_day']/df_buoy_ave['PARAirFlags_day']\n",
    "\n",
    "## Creating some nightly parameters\n",
    "df_buoy_ave['BGAPCShallowRFU_night'] = imputed_df_buoy[~filt_day]['BGAPCShallowRFU'].groupby(imputed_df_buoy[~filt_day].index.date).agg('median')\n",
    "df_buoy_ave['ChlRFUShallow_night'] = imputed_df_buoy[~filt_day]['ChlRFUShallow'].groupby(imputed_df_buoy[~filt_day].index.date).agg('median')\n",
    "df_buoy_ave['ChlorophyllShallow_night'] = imputed_df_buoy[~filt_day]['ChlorophyllShallow'].groupby(imputed_df_buoy[~filt_day].index.date).agg('median')\n",
    "\n",
    "## creating parameters with time lag based on averaging window\n",
    "df_buoy_ave['TempShallow_SMA3'] = df_buoy_ave['TempShallow'].rolling(window=3).mean()\n",
    "df_buoy_ave['TempShallow_SMA3'] = df_buoy_ave['TempShallow_SMA3'].groupby(df_buoy_ave.Month).transform(lambda x: x.fillna(x.median()))\n",
    "\n",
    "df_buoy_ave['WindSp_SMA3'] = df_buoy_ave['WindSp'].rolling(window=3).mean()\n",
    "df_buoy_ave['WindSp_SMA3'] = df_buoy_ave['WindSp_SMA3'].groupby(df_buoy_ave.Month).transform(lambda x: x.fillna(x.median()))\n",
    "\n",
    "df_buoy_ave['PARAirFlags_day_SMA3'] = df_buoy_ave['PARAirFlags_day'].rolling(window=3).mean()\n",
    "df_buoy_ave['PARAirFlags_day_SMA3'] = df_buoy_ave['PARAirFlags_day_SMA3'].groupby(df_buoy_ave.Month).transform(lambda x: x.fillna(x.median()))\n",
    "\n",
    "df_buoy_ave['PAR_normalized_day_SMA3'] = df_buoy_ave['PAR_normalized_day'].rolling(window=3).mean()\n",
    "df_buoy_ave['PAR_normalized_day_SMA3'] = df_buoy_ave['PAR_normalized_day_SMA3'].groupby(df_buoy_ave.Month).transform(lambda x: x.fillna(x.median()))\n",
    "\n",
    "# ## creating parameters with \n",
    "# df_buoy_ave['stratification'] = df_buoy_ave['Temp04'] - df_buoy_ave['Temp00']\n",
    "# #df_buoy_ave['stratification'] = df_buoy_ave['TempShallow'] - df_buoy_ave['TempDeep']\n",
    "\n",
    "# df_buoy_ave['BGAPCShallowRFU_t-1'] = df_buoy_ave['BGAPCShallowRFU'] - df_buoy_ave['BGAPCShallowRFU'].shift(-1) \n",
    "# df_buoy_ave['BGAPCShallowRFU_t+1'] = df_buoy_ave['BGAPCShallowRFU'].shift(+1) - df_buoy_ave['BGAPCShallowRFU']"
   ]
  },
  {
   "cell_type": "markdown",
   "metadata": {},
   "source": [
    "# Merging lab and buoy datasets"
   ]
  },
  {
   "cell_type": "code",
   "execution_count": 48,
   "metadata": {
    "slideshow": {
     "slide_type": "slide"
    }
   },
   "outputs": [],
   "source": [
    "## inner merging both dataframes to extract coincidence dates in which we have both lab and buoy data\n",
    "df_both = pd.merge(df_lab_ave_logTrans, df_buoy_ave, left_index=True, right_index=True, how='inner')"
   ]
  },
  {
   "cell_type": "code",
   "execution_count": 49,
   "metadata": {
    "slideshow": {
     "slide_type": "subslide"
    }
   },
   "outputs": [],
   "source": [
    "# # plot the heatmap to see the correaltion of buoy parameters with lab chla\n",
    "# correlation_matrix = df_both.corr().round(2)  # it seems that this function is working even with nan values in data\n",
    "# plt.figure(figsize=(18,18))\n",
    "# sb.heatmap(data=correlation_matrix, annot=True, center=0.0, cmap='coolwarm')"
   ]
  },
  {
   "cell_type": "markdown",
   "metadata": {},
   "source": [
    "among PARs I think it makes more sense to use AirPAR because it just depends on PAR but the other ones also depends on chla and turbidity which can be catch by better features like the one below which only depends on turbidity and chla not AIRPAR."
   ]
  },
  {
   "cell_type": "markdown",
   "metadata": {},
   "source": [
    "# Some extra analysis"
   ]
  },
  {
   "cell_type": "markdown",
   "metadata": {},
   "source": [
    "Now, some analysis to show the relation of paraemters (especially generated ones) with chla. This shows what other works (studies) we can do with this dataset."
   ]
  },
  {
   "cell_type": "code",
   "execution_count": 50,
   "metadata": {},
   "outputs": [
    {
     "data": {
      "text/plain": [
       "<matplotlib.collections.PathCollection at 0x269c78e9fa0>"
      ]
     },
     "execution_count": 50,
     "metadata": {},
     "output_type": "execute_result"
    },
    {
     "data": {
      "image/png": "[encoded data removed]",
      "text/plain": [
       "<Figure size 432x288 with 1 Axes>"
      ]
     },
     "metadata": {
      "needs_background": "light"
     },
     "output_type": "display_data"
    }
   ],
   "source": [
    "plt.scatter(df_both.PARW1_day, df_both.Lab_Chla)\n",
    "# could also be:\n",
    "#plt.scatter(df_buoy_ave.PARW1_day, df_buoy_ave.BGAPCShallowRFU)"
   ]
  },
  {
   "cell_type": "code",
   "execution_count": 51,
   "metadata": {},
   "outputs": [
    {
     "data": {
      "text/plain": [
       "<matplotlib.collections.PathCollection at 0x269c75963a0>"
      ]
     },
     "execution_count": 51,
     "metadata": {},
     "output_type": "execute_result"
    },
    {
     "data": {
      "image/png": "[encoded data removed]",
      "text/plain": [
       "<Figure size 432x288 with 1 Axes>"
      ]
     },
     "metadata": {
      "needs_background": "light"
     },
     "output_type": "display_data"
    }
   ],
   "source": [
    "plt.scatter(df_both.PARAirFlags_day, df_both.Lab_Chla)"
   ]
  },
  {
   "cell_type": "code",
   "execution_count": 52,
   "metadata": {},
   "outputs": [
    {
     "data": {
      "text/plain": [
       "array([[ 1.        , -0.65809697],\n",
       "       [-0.65809697,  1.        ]])"
      ]
     },
     "execution_count": 52,
     "metadata": {},
     "output_type": "execute_result"
    },
    {
     "data": {
      "image/png": "[encoded data removed]",
      "text/plain": [
       "<Figure size 432x288 with 1 Axes>"
      ]
     },
     "metadata": {
      "needs_background": "light"
     },
     "output_type": "display_data"
    }
   ],
   "source": [
    "plt.scatter(np.log10(df_both.PAR_normalized_day), df_both.Lab_Chla)\n",
    "np.corrcoef(np.log10(df_both.PAR_normalized_day), df_both.Lab_Chla)"
   ]
  },
  {
   "cell_type": "code",
   "execution_count": 53,
   "metadata": {},
   "outputs": [
    {
     "data": {
      "text/plain": [
       "array([[ 1.        , -0.63618615],\n",
       "       [-0.63618615,  1.        ]])"
      ]
     },
     "execution_count": 53,
     "metadata": {},
     "output_type": "execute_result"
    },
    {
     "data": {
      "image/png": "[encoded data removed]",
      "text/plain": [
       "<Figure size 432x288 with 1 Axes>"
      ]
     },
     "metadata": {
      "needs_background": "light"
     },
     "output_type": "display_data"
    }
   ],
   "source": [
    "plt.scatter(np.log10(df_both.PAR_normalized_day_SMA3), df_both.Lab_Chla)\n",
    "np.corrcoef(np.log10(df_both.PAR_normalized_day_SMA3), df_both.Lab_Chla)"
   ]
  },
  {
   "cell_type": "markdown",
   "metadata": {},
   "source": [
    "another feature to generate could be a combination of temp in depths to show thestratification"
   ]
  },
  {
   "cell_type": "markdown",
   "metadata": {},
   "source": [
    "# Feature Preparation"
   ]
  },
  {
   "cell_type": "code",
   "execution_count": 54,
   "metadata": {},
   "outputs": [],
   "source": [
    "# # Exporting processed data to file\n",
    "# df_both.to_csv('BuoyLabData_SameDay.csv')\n",
    "\n",
    "# # Importing processed data from file\n",
    "# df_both = pd.read_csv('BuoyLabData_SameDay.csv')"
   ]
  },
  {
   "cell_type": "code",
   "execution_count": 55,
   "metadata": {
    "slideshow": {
     "slide_type": "slide"
    }
   },
   "outputs": [
    {
     "data": {
      "text/plain": [
       "count    212.000000\n",
       "mean       1.456144\n",
       "std        0.389047\n",
       "min        0.350248\n",
       "25%        1.206149\n",
       "50%        1.494404\n",
       "75%        1.748308\n",
       "max        2.294031\n",
       "Name: Lab_Chla, dtype: float64"
      ]
     },
     "execution_count": 55,
     "metadata": {},
     "output_type": "execute_result"
    }
   ],
   "source": [
    "# extract target as y from data\n",
    "y = df_both['Lab_Chla']\n",
    "X = df_both.drop(['Lab_Chla'], axis=1)\n",
    "y.describe()"
   ]
  },
  {
   "cell_type": "code",
   "execution_count": 56,
   "metadata": {
    "scrolled": true,
    "slideshow": {
     "slide_type": "slide"
    }
   },
   "outputs": [
    {
     "data": {
      "text/plain": [
       "array([[<AxesSubplot:title={'center':'BGAPCShallowRFU'}>]], dtype=object)"
      ]
     },
     "execution_count": 56,
     "metadata": {},
     "output_type": "execute_result"
    },
    {
     "data": {
      "image/png": "[encoded data removed]",
      "text/plain": [
       "<Figure size 432x288 with 1 Axes>"
      ]
     },
     "metadata": {
      "needs_background": "light"
     },
     "output_type": "display_data"
    }
   ],
   "source": [
    "## a manual feature selection based on correlation with chla_lab and feature redundancy\n",
    "X_sel = X[selected_features]\n",
    "X_sel.hist()"
   ]
  },
  {
   "cell_type": "code",
   "execution_count": 57,
   "metadata": {},
   "outputs": [],
   "source": [
    "# # in case we have categorical features\n",
    "\n",
    "# cat_col = selected_features.pop(-1)\n",
    "# num_cal = selected_features.copy()\n",
    "\n",
    "# from sklearn.preprocessing import OrdinalEncoder\n",
    "\n",
    "# encoder = OrdinalEncoder()\n",
    "# new_col = encoder.fit_transform(np.array(X_sel[cat_col]).reshape(-1,1))"
   ]
  },
  {
   "cell_type": "code",
   "execution_count": 58,
   "metadata": {
    "scrolled": true
   },
   "outputs": [
    {
     "data": {
      "text/plain": [
       "array([[<AxesSubplot:title={'center':'BGAPCShallowRFU'}>]], dtype=object)"
      ]
     },
     "execution_count": 58,
     "metadata": {},
     "output_type": "execute_result"
    },
    {
     "data": {
      "image/png": "[encoded data removed]",
      "text/plain": [
       "<Figure size 432x288 with 1 Axes>"
      ]
     },
     "metadata": {
      "needs_background": "light"
     },
     "output_type": "display_data"
    }
   ],
   "source": [
    "# log-transform features because they all seem having log-normal distribution\n",
    "X_sel_logTrans = X_sel.copy()\n",
    "for feature in selected_features:\n",
    "    if np.min(X_sel[feature]) > 0:\n",
    "        X_sel_logTrans[feature] = pd.DataFrame(np.log10(X_sel[feature]))\n",
    "    elif np.max(X_sel[feature]) < 0:\n",
    "        X_sel_logTrans[feature] = pd.DataFrame(np.log10(abs(X_sel[feature])))\n",
    "    elif np.min(X_sel[feature]) == 0:\n",
    "        X_sel_logTrans[feature] = pd.DataFrame(np.log1p(X_sel[feature]))\n",
    "        \n",
    "X_sel_logTrans.hist()"
   ]
  },
  {
   "cell_type": "code",
   "execution_count": 59,
   "metadata": {
    "scrolled": true
   },
   "outputs": [
    {
     "data": {
      "text/plain": [
       "array([[<AxesSubplot:title={'center':'BGAPCShallowRFU'}>]], dtype=object)"
      ]
     },
     "execution_count": 59,
     "metadata": {},
     "output_type": "execute_result"
    },
    {
     "data": {
      "image/png": "[encoded data removed]",
      "text/plain": [
       "<Figure size 432x288 with 1 Axes>"
      ]
     },
     "metadata": {
      "needs_background": "light"
     },
     "output_type": "display_data"
    }
   ],
   "source": [
    "# detect outliers and replace with median value\n",
    "def reject_outliers(feature, m):\n",
    "    return abs(feature - np.median(feature)) > m * np.std(feature)\n",
    "\n",
    "features = X_sel_logTrans.copy()\n",
    "for feature in features:\n",
    "    idx_outlier = reject_outliers(features[feature], 3.5)\n",
    "    features[feature][idx_outlier] = features[feature].median()\n",
    "\n",
    "X_sel_logTrans = features.copy()\n",
    "X_sel_logTrans.hist()"
   ]
  },
  {
   "cell_type": "code",
   "execution_count": 111,
   "metadata": {
    "scrolled": true
   },
   "outputs": [
    {
     "data": {
      "text/plain": [
       "array([[<AxesSubplot:title={'center':'0'}>]], dtype=object)"
      ]
     },
     "execution_count": 111,
     "metadata": {},
     "output_type": "execute_result"
    },
    {
     "data": {
      "image/png": "[encoded data removed]",
      "text/plain": [
       "<Figure size 432x288 with 1 Axes>"
      ]
     },
     "metadata": {
      "needs_background": "light"
     },
     "output_type": "display_data"
    }
   ],
   "source": [
    "# normalize features             IT seems that normalizing is not needed at least for PC single-feature model\n",
    "from sklearn.preprocessing import StandardScaler\n",
    "scaler = StandardScaler()\n",
    "X_sel_logTrans_normalized = scaler.fit_transform(X_sel_logTrans)\n",
    "pd.DataFrame(X_sel_logTrans_normalized).hist()"
   ]
  },
  {
   "cell_type": "markdown",
   "metadata": {},
   "source": [
    "## Model Development"
   ]
  },
  {
   "cell_type": "code",
   "execution_count": 61,
   "metadata": {
    "slideshow": {
     "slide_type": "slide"
    }
   },
   "outputs": [],
   "source": [
    "from sklearn.feature_selection import SelectKBest, f_regression\n",
    "from sklearn.linear_model import LinearRegression\n",
    "#from sklearn.cross_decomposition import PLSRegression\n",
    "#from sklearn.neural_network import MLPRegressor\n",
    "\n",
    "model = LinearRegression()\n",
    "#model = PLSRegression(n_components =3)\n",
    "#model = MLPRegressor(hidden_layer_sizes=(8,8,8), activation='relu', solver='adam', max_iter=1000, random_state=0)"
   ]
  },
  {
   "cell_type": "code",
   "execution_count": 62,
   "metadata": {},
   "outputs": [],
   "source": [
    "## ANOVA SVM-C\n",
    "# # 1) anova filter, take 3 best ranked features\n",
    "# anova_filter = SelectKBest(f_regression, k=6)\n",
    "# anova_filter"
   ]
  },
  {
   "cell_type": "code",
   "execution_count": 98,
   "metadata": {
    "slideshow": {
     "slide_type": "subslide"
    }
   },
   "outputs": [],
   "source": [
    "# create a pipeline\n",
    "from sklearn.pipeline import Pipeline\n",
    "from sklearn.preprocessing import PolynomialFeatures\n",
    "\n",
    "poly_degree = 1\n",
    "poly_featureGenerator = PolynomialFeatures(degree = poly_degree, interaction_only=False, include_bias=True, order='C')\n",
    "\n",
    "my_pipeline = Pipeline(steps=[('poly_transform', poly_featureGenerator), ('model', model)])#('filter', anova_filter),"
   ]
  },
  {
   "cell_type": "code",
   "execution_count": 112,
   "metadata": {
    "slideshow": {
     "slide_type": "subslide"
    }
   },
   "outputs": [
    {
     "data": {
      "text/plain": [
       "1.389173116913434"
      ]
     },
     "execution_count": 112,
     "metadata": {},
     "output_type": "execute_result"
    }
   ],
   "source": [
    "# cross validation and accuracy assessment of model\n",
    "from sklearn.model_selection import cross_val_score\n",
    "mae = 10**(-1 * cross_val_score(my_pipeline,X_sel_logTrans_normalized, y, cv=5, scoring='neg_mean_absolute_error').mean())\n",
    "mae"
   ]
  },
  {
   "cell_type": "code",
   "execution_count": 65,
   "metadata": {
    "slideshow": {
     "slide_type": "slide"
    }
   },
   "outputs": [],
   "source": [
    "# getting predictions values from cross validation\n",
    "from sklearn.model_selection import cross_val_predict\n",
    "y_pred = cross_val_predict(my_pipeline, X_sel_logTrans_normalized, y, cv=5)"
   ]
  },
  {
   "cell_type": "markdown",
   "metadata": {},
   "source": [
    "# Save results and model into drive"
   ]
  },
  {
   "cell_type": "code",
   "execution_count": 116,
   "metadata": {},
   "outputs": [
    {
     "data": {
      "text/plain": [
       "['BuoyCalibrationModel_Chl_PC.joblib']"
      ]
     },
     "execution_count": 116,
     "metadata": {},
     "output_type": "execute_result"
    }
   ],
   "source": [
    "import joblib\n",
    "\n",
    "# save model for further use\n",
    "model.fit(X_sel_logTrans, y)\n",
    "joblib.dump(model, 'BuoyCalibrationModel_' + model_name + '.joblib')\n",
    "\n",
    "# # save a csv file containing pred_chla and lab_chla for further analysis\n",
    "# y_pred_df = pd.Series(y_pred, index = y.index, name = 'chla_pred') # X.ChlorophyllShallow \n",
    "# pd.DataFrame(pd.concat([y, y_pred_df],axis=1)).to_csv(model_name + '.csv')"
   ]
  },
  {
   "cell_type": "markdown",
   "metadata": {},
   "source": [
    "# ANOVA test"
   ]
  },
  {
   "cell_type": "code",
   "execution_count": 67,
   "metadata": {
    "scrolled": true
   },
   "outputs": [],
   "source": [
    "# import statsmodels.api as sm\n",
    "# from statsmodels.formula.api import ols\n",
    "\n",
    "# data_for_statsmodels = pd.concat([y, pd.DataFrame(X_sel_logTrans, columns=selected_features, index = X.index)], axis = 1)\n",
    "\n",
    "# # mod2 = ols('Lab_Chla ~ TurbShallowField + PAR_normalized_day + CO2Shallow + Month ', data = data_for_statsmodels).fit()\n",
    "# mod2 = ols('Lab_Chla ~ BGAPCShallowRFU + ChlRFUShallow ', data = data_for_statsmodels).fit()\n",
    "# #mod1 = ols('Lab_Chla ~ BGAPCShallowRFU', data = data_for_statsmodels).fit()\n",
    "# #sm.stats.anova_lm(mod1, mod2)\n",
    "# results = sm.stats.anova_lm(mod2, type=2)\n",
    "# # mod2.summary()\n",
    "# #round(results,2)\n",
    "# results"
   ]
  },
  {
   "cell_type": "markdown",
   "metadata": {},
   "source": [
    "## correlation plot for paper"
   ]
  },
  {
   "cell_type": "code",
   "execution_count": 68,
   "metadata": {},
   "outputs": [],
   "source": [
    "# # Creating correlation plot for fuorometry paper\n",
    "# for_corr = data_for_statsmodels.copy()\n",
    "# for_corr.drop(['Month'],axis=1,inplace=True)\n",
    "\n",
    "# # for_corr.rename(columns = {'Lab_Chla': '$chl_{M}$', 'TurbShallowField': 'turbidity', 'PAR_normalized_day':'nPAR$_{water}$',  'CO2Shallow':'CO$_{2}$'}, inplace=True)\n",
    "# for_corr.rename(columns = {'Lab_Chla': '$chl_{M}$', 'BGAPCShallowRFU': 'PC fluorescence', 'ChlRFUShallow':'Chl-a fluorescence'}, inplace=True)\n",
    "\n",
    "# correlation_matrix = for_corr.corr().round(2)  # it seems that this function is working even with nan values in data\n",
    "# plt.figure(figsize=(5,5))\n",
    "# g = sb.heatmap(data=correlation_matrix, annot=True,center=0.0, cmap='coolwarm')\n",
    "# sb.set(font_scale=1)\n",
    "# g.set_yticklabels(g.get_ymajorticklabels(), fontsize = 13)\n",
    "# g.set_xticklabels(g.get_xmajorticklabels(), fontsize = 13)\n",
    "# plt.xticks(rotation=90) \n",
    "# plt.savefig('fig8.png', dpi=500, bbox_inches = 'tight')"
   ]
  },
  {
   "cell_type": "markdown",
   "metadata": {},
   "source": [
    "# Time series of chla data from calibrated buoy data"
   ]
  },
  {
   "cell_type": "code",
   "execution_count": 69,
   "metadata": {},
   "outputs": [],
   "source": [
    "# scaler = StandardScaler()\n",
    "# df_buoy_ave_sel_logTrans_normalized = scaler.fit_transform(np.log10(df_buoy_ave[selected_features]))\n",
    "\n",
    "# model.fit(X_sel_logTrans_normalized, y)\n",
    "# df_buoy_ave['pred_val_chl'] = model.predict(df_buoy_ave_sel_logTrans_normalized)\n",
    "# plt.plot(10**y_pred)\n",
    "\n",
    "# df_buoy_ave[['pred_val_PC','pred_val_ML', 'pred_val_chl']].to_csv('pred_values.csv')\n",
    "# df_both[['Lab_Chla','ChlRFUShallow','BGAPCShallowRFU']].to_csv('df_both.csv')\n",
    "# # df[['Date_Time', 'ChlorophyllShallow','Dataset']].to_csv('df.csv')\n",
    "# # df_lab[['Date_Time','Lab_Chla', 'Dataset', 'sampledepth']].to_csv('df_lab.csv')"
   ]
  },
  {
   "cell_type": "markdown",
   "metadata": {},
   "source": [
    "# Creating Reliability graph for paper"
   ]
  },
  {
   "cell_type": "markdown",
   "metadata": {},
   "source": [
    "we provide info for this figure from two seperate dataframes"
   ]
  },
  {
   "cell_type": "code",
   "execution_count": 70,
   "metadata": {},
   "outputs": [],
   "source": [
    "# # exclude surface samples from this analyis\n",
    "# filt_sampledepth = df_lab['sampledepth'] != 0\n",
    "\n",
    "# # grouping based on date and dataset\n",
    "# df_lab_ave_date_dataset = (df_lab[filt_sampledepth]).groupby([df_lab.Date_Time.dt.date,'Dataset']).agg({'Lab_Chla': 'median'}) \n",
    "\n",
    "# # log-transform to normal distribution\n",
    "# df_lab_ave_date_dataset['Lab_Chla'] = np.log10(df_lab_ave_date_dataset['Lab_Chla'])\n",
    "\n",
    "# #  get rid of individual observations in one day\n",
    "# df_lab_ave_date_dataset = df_lab_ave_date_dataset[df_lab_ave_date_dataset.index.get_level_values('Date_Time').duplicated(keep=False)]\n",
    "\n",
    "# df_lab_ave_date_dataset['Dataset'] = df_lab_ave_date_dataset.index.get_level_values('Dataset')\n",
    "\n",
    "# df_lab_ave_date_dataset = df_lab_ave_date_dataset.droplevel(1).copy()\n",
    "\n",
    "# # inner merge both dataframe\n",
    "# df_lab_ave_date_dataset = pd.merge(df_lab_ave_date_dataset, y_pred_df, left_index=True, right_index=True, how='inner')\n",
    "\n",
    "# df_lab_ave_date_dataset_par = df_lab_ave_date_dataset.groupby([df_lab_ave_date_dataset.index]).agg({'Lab_Chla': ['mean','std']})\n",
    "\n",
    "# # inner merge both dataframe\n",
    "# df_both_pred_lab = pd.merge(df_lab_ave_date_dataset_par, pd.DataFrame(y_pred_df), left_index=True, right_index=True, how='inner')\n",
    "\n",
    "# df_both_pred_lab.dropna(axis=0,inplace=True)"
   ]
  },
  {
   "cell_type": "code",
   "execution_count": 71,
   "metadata": {},
   "outputs": [],
   "source": [
    "# import matplotlib.dates as mdates\n",
    "# plt.figure(figsize=(12,7))\n",
    "# df_both_pred_lab['dates']=df_both_pred_lab.index\n",
    "# dates = df_both_pred_lab['dates']\n",
    "# plt.scatter(dates.apply(lambda x: x.strftime('%Y-%m-%d')), df_both_pred_lab['chla_pred'], color = 'r', s = 15, label = 'chl$^{ML}_{P}$')\n",
    "# plt.errorbar(dates.apply(lambda x: x.strftime('%Y-%m-%d')), df_both_pred_lab[('Lab_Chla', 'mean')], 2*df_both_pred_lab[('Lab_Chla', 'std')],  ls='none', capsize = 2, elinewidth = 1 , label = r'$\\pm$' + '2*' + r'$\\sigma$' + ' variation')\n",
    "\n",
    "# df_lab_ave_date_dataset['dates'] = df_lab_ave_date_dataset.index\n",
    "# dates1 = df_lab_ave_date_dataset[df_lab_ave_date_dataset['Dataset']=='Calibration']['dates']\n",
    "# dates2 = df_lab_ave_date_dataset[df_lab_ave_date_dataset['Dataset']=='WTP']['dates']\n",
    "# dates3 = df_lab_ave_date_dataset[df_lab_ave_date_dataset['Dataset']=='HPLC']['dates']\n",
    "# dates4 = df_lab_ave_date_dataset[df_lab_ave_date_dataset['Dataset']=='Survey']['dates']\n",
    "\n",
    "# plt.scatter(dates1.apply(lambda x: x.strftime('%Y-%m-%d')), df_lab_ave_date_dataset[df_lab_ave_date_dataset['Dataset']=='Calibration']['Lab_Chla'],  marker = '^', color = [1,0,0], s = 15, label = 'chl$_{M}$ (E)')\n",
    "# plt.scatter(dates2.apply(lambda x: x.strftime('%Y-%m-%d')), df_lab_ave_date_dataset[df_lab_ave_date_dataset['Dataset']=='WTP']['Lab_Chla'],  marker = '^', color = [.8,0.4,0], s = 15, label = 'chl$_{M}$ (W)')\n",
    "# plt.scatter(dates3.apply(lambda x: x.strftime('%Y-%m-%d')), df_lab_ave_date_dataset[df_lab_ave_date_dataset['Dataset']=='HPLC']['Lab_Chla'],  marker = '^', color = [.7,0,.7], s = 15, label = 'chl$_{M}$ (H)')\n",
    "# plt.scatter(dates4.apply(lambda x: x.strftime('%Y-%m-%d')), df_lab_ave_date_dataset[df_lab_ave_date_dataset['Dataset']=='Survey']['Lab_Chla'],  marker = '^', color = 'black', s = 15, label = 'chl$_{M}$ (S)')\n",
    "\n",
    "# plt.xticks(fontsize= 13 , rotation = 90)\n",
    "# plt.yticks(ticks = [0, 1, 2, 2.47],labels = [1, 10, 100, 300], fontsize= 13 )\n",
    "# plt.ylabel('Concentration mg/m\\u00b3',fontsize= 15 )\n",
    "# #plt.grid()\n",
    "# #ax1.set_yscale('log')\n",
    "# plt.legend(ncol=1, loc='center right', bbox_to_anchor=(1.2,.5))\n",
    "# #plt.savefig('fig10.png', dpi=500, bbox_inches = 'tight')"
   ]
  },
  {
   "cell_type": "code",
   "execution_count": 72,
   "metadata": {},
   "outputs": [],
   "source": [
    "# #compute reliability\n",
    "# sum(abs(10**df_both_pred_lab[('Lab_Chla', 'mean')] - df_both_pred_lab['ChlorophyllShallow'])<3*10**df_both_pred_lab[('Lab_Chla', 'std')])/35"
   ]
  }
 ],
 "metadata": {
  "celltoolbar": "Slideshow",
  "kernelspec": {
   "display_name": "Python 3 (ipykernel)",
   "language": "python",
   "name": "python3"
  },
  "language_info": {
   "codemirror_mode": {
    "name": "ipython",
    "version": 3
   },
   "file_extension": ".py",
   "mimetype": "text/x-python",
   "name": "python",
   "nbconvert_exporter": "python",
   "pygments_lexer": "ipython3",
   "version": "3.8.12"
  },
  "varInspector": {
   "cols": {
    "lenName": 16,
    "lenType": 16,
    "lenVar": 40
   },
   "kernels_config": {
    "python": {
     "delete_cmd_postfix": "",
     "delete_cmd_prefix": "del ",
     "library": "var_list.py",
     "varRefreshCmd": "print(var_dic_list())"
    },
    "r": {
     "delete_cmd_postfix": ") ",
     "delete_cmd_prefix": "rm(",
     "library": "var_list.r",
     "varRefreshCmd": "cat(var_dic_list()) "
    }
   },
   "position": {
    "height": "365.4px",
    "left": "729.8px",
    "right": "20px",
    "top": "120px",
    "width": "350px"
   },
   "types_to_exclude": [
    "module",
    "function",
    "builtin_function_or_method",
    "instance",
    "_Feature"
   ],
   "window_display": false
  }
 },
 "nbformat": 4,
 "nbformat_minor": 4
}
